{
  "nbformat": 4,
  "nbformat_minor": 0,
  "metadata": {
    "colab": {
      "provenance": [],
      "mount_file_id": "12JuFbv1OGowmrshrJqKqUPimqkAkjxXY",
      "authorship_tag": "ABX9TyNHG45+B2sme5xo37BVr8N6",
      "include_colab_link": true
    },
    "kernelspec": {
      "name": "python3",
      "display_name": "Python 3"
    },
    "language_info": {
      "name": "python"
    }
  },
  "cells": [
    {
      "cell_type": "markdown",
      "metadata": {
        "id": "view-in-github",
        "colab_type": "text"
      },
      "source": [
        "<a href=\"https://colab.research.google.com/github/AlexZheng000107/QTM350/blob/main/apan5430_assignment2.ipynb\" target=\"_parent\"><img src=\"https://colab.research.google.com/assets/colab-badge.svg\" alt=\"Open In Colab\"/></a>"
      ]
    },
    {
      "cell_type": "markdown",
      "source": [
        "Pick a random news article (preferably with many entity mentions) from your Webhose dataset (provided in the Week 2 Assignment), extract named entities using spaCy using a pre-trained language model (e.g., 'en_core_web_sm'), print the named entities in a list of (entity, label) tuples, and visualize the labeled entities using displaCy."
      ],
      "metadata": {
        "id": "BHUuI3YkzozF"
      }
    },
    {
      "cell_type": "code",
      "execution_count": 1,
      "metadata": {
        "id": "2rRhaCNza8W8"
      },
      "outputs": [],
      "source": [
        "import json\n",
        "import pandas as pd\n",
        "\n",
        "#load the dataset into pandas dataframe\n",
        "f = open(\"webhose_apple.json\")\n",
        "json_data=f.readlines()\n",
        "newsfeeds = []\n",
        "for line in json_data:\n",
        "    newsfeeds.append(json.loads(line))\n",
        "f.close()\n",
        "\n",
        "df = pd.DataFrame(newsfeeds)\n",
        "\n",
        "\n"
      ]
    },
    {
      "cell_type": "code",
      "source": [
        "# picking the 8th article because it contains many entity menitons\n",
        "article=df.iloc[7]['text']\n",
        "print(article)"
      ],
      "metadata": {
        "colab": {
          "base_uri": "https://localhost:8080/"
        },
        "id": "XE2lJ1t-eqFW",
        "outputId": "6f37bf86-da48-4630-c172-78a3bacb4c5b"
      },
      "execution_count": 2,
      "outputs": [
        {
          "output_type": "stream",
          "name": "stdout",
          "text": [
            "Mr. Ranjeet Sundher reports\n",
            "60% OF GLOBAL COBALT SUPPLY AT RISK AS DRC CRACKDOWN INTENSIFIES\n",
            "Bolt Metals Corp. has noted the Financial Times reported that Huayou Cobalt, \"China's top cobalt producer, halts buying from Congo miners.\" It's widely reported that the Democratic Republic of Congo (the \"DRC\") represents 60% of global cobalt production.\n",
            "Shanghai-listed Huayou supplies cobalt to battery makers LG Chem of South Korea and CATL of China, as well as Chinese carmaker BYD and Germany's Volkswagen.\n",
            "Bowing to international pressure to shutter its conflict-sourced cobalt, Huayou is the latest conglomerate to exit the DRC, joining Apple, Google and several auto manufacturers. Huayou is looking to raise $870m in an effort to expand nickel and cobalt sulphate production in Indonesia. Huayou's plant in Indonesia's Morowali Industrial Park is expected to produce at least 60,000 tonnes of nickel content per year within 2 years.\n",
            "Ranjeet Sundher, CEO of Bolt Metals, comments, \"Cobalt remains an important ingredient in battery chemistries, and international markets are increasingly demanding conflict-free sources for the metal. Bolt Metals believes Indonesia represents a unique opportunity to exploit cobalt as a byproduct of the countries abundant nickel resources. Our flagship Cyclops nickel-cobalt asset has demonstrated strong results from 2018-19 drilling and benchmark analysis, providing an essential foundation for the eventual development of a pilot plant.\"\n",
            "Recent positive developments within Indonesia's mining sector have generated significant interest in Bolt Metals and its Cyclops project from downstream battery metal suppliers within Indonesia as well as China, the largest battery metals market in the world.\n",
            "Bolt Metals has signed preliminary offtake agreements with Beijing Easpring, China's top battery metals supplier (please refer to the Company's press release issued July 11, 2018) and Junan Jinxin (please refer to the Company's press release issued March 5, 2020), primarily engaged in the acquisition, production, processing and marketing of tungsten and cobalt 1 . Both agreements provide a strategic investment option. Bolt Metals is working toward signing definitive agreements with both companies, while preparing for the commencement of construction of a pilot plant in Canada.\n",
            "Processing results from the pilot plant will be used to establish design criteria for the subsequent demonstration plant in Indonesia, which will produce nickel and cobalt products suitable to meet market specifications. As well as demonstrating Bolt Metal's ability to produce a product within market specifications, the demonstration plant will be used to establish design criteria for a commercial full-scale plant.\n",
            "1 The Company has not made a decision to proceed to production and would not do so without first establishing mineral reserves.\n",
            "About Bolt Metals\n",
            "BOLT Metals is a Canadian-based exploration company focused on the acquisition and development of production grade nickel and cobalt deposits, key raw material inputs for the growing lithium-ion battery industry.\n",
            "We seek Safe Harbor.\n",
            " \n"
          ]
        }
      ]
    },
    {
      "cell_type": "code",
      "source": [
        "import spacy\n",
        "from spacy import displacy\n",
        "\n",
        "# Load the English language model\n",
        "nlp = spacy.load('en_core_web_sm')\n",
        "\n",
        "article_text = article\n",
        "\n",
        "# Process the article text with spaCy\n",
        "doc = nlp(article_text)\n",
        "\n",
        "# Extract named entities and their labels\n",
        "named_entities = [(ent.text, ent.label_) for ent in doc.ents]\n",
        "\n",
        "# Print the named entities in (entity, label) tuples\n",
        "print(named_entities)\n"
      ],
      "metadata": {
        "colab": {
          "base_uri": "https://localhost:8080/"
        },
        "id": "kAKRZzjTiHIB",
        "outputId": "85dece17-c387-4f41-8f56-efb40bdcabd8"
      },
      "execution_count": 3,
      "outputs": [
        {
          "output_type": "stream",
          "name": "stdout",
          "text": [
            "[('Ranjeet Sundher', 'PERSON'), ('60%', 'PERCENT'), ('Bolt Metals Corp.', 'ORG'), ('the Financial Times', 'ORG'), ('Huayou Cobalt', 'PERSON'), ('China', 'GPE'), ('Congo', 'GPE'), ('the Democratic Republic of Congo', 'GPE'), ('60%', 'PERCENT'), ('Shanghai', 'GPE'), ('Huayou', 'PRODUCT'), ('LG Chem of South Korea', 'ORG'), ('China', 'GPE'), ('Chinese', 'NORP'), ('BYD', 'ORG'), ('Germany', 'GPE'), ('Volkswagen', 'ORG'), ('Huayou', 'PERSON'), ('DRC', 'ORG'), ('Apple', 'ORG'), ('Google', 'ORG'), ('870', 'MONEY'), ('Indonesia', 'GPE'), ('Huayou', 'PERSON'), ('Indonesia', 'GPE'), ('Morowali Industrial Park', 'GPE'), ('at least 60,000', 'CARDINAL'), ('2 years', 'DATE'), ('Ranjeet Sundher', 'PERSON'), ('Bolt Metals', 'ORG'), ('Bolt Metals', 'PERSON'), ('Indonesia', 'GPE'), ('Cyclops', 'ORG'), ('2018-19', 'DATE'), ('Indonesia', 'GPE'), ('Bolt Metals', 'ORG'), ('Cyclops', 'ORG'), ('Indonesia', 'GPE'), ('China', 'GPE'), ('Bolt Metals', 'ORG'), ('Beijing Easpring', 'ORG'), ('China', 'GPE'), ('Company', 'ORG'), ('July 11, 2018', 'DATE'), ('Junan Jinxin', 'PERSON'), ('Company', 'ORG'), ('March 5, 2020', 'DATE'), ('1', 'CARDINAL'), ('Bolt Metals', 'PERSON'), ('Canada', 'GPE'), ('Indonesia', 'GPE'), (\"Bolt Metal's\", 'ORG'), ('1', 'CARDINAL'), ('first', 'ORDINAL'), ('Bolt Metals', 'PERSON'), ('BOLT Metals', 'ORG'), ('Canadian', 'NORP'), ('Safe Harbor', 'LOC')]\n"
          ]
        }
      ]
    },
    {
      "cell_type": "code",
      "source": [
        "#visualize named entities\n",
        "displacy.render(doc, style=\"ent\", jupyter=True)"
      ],
      "metadata": {
        "colab": {
          "base_uri": "https://localhost:8080/",
          "height": 927
        },
        "id": "M77kiCrBkaz0",
        "outputId": "fd7763c6-679d-4963-d69c-344ea1cefe0e"
      },
      "execution_count": 4,
      "outputs": [
        {
          "output_type": "display_data",
          "data": {
            "text/plain": [
              "<IPython.core.display.HTML object>"
            ],
            "text/html": [
              "<span class=\"tex2jax_ignore\"><div class=\"entities\" style=\"line-height: 2.5; direction: ltr\">Mr. \n",
              "<mark class=\"entity\" style=\"background: #aa9cfc; padding: 0.45em 0.6em; margin: 0 0.25em; line-height: 1; border-radius: 0.35em;\">\n",
              "    Ranjeet Sundher\n",
              "    <span style=\"font-size: 0.8em; font-weight: bold; line-height: 1; border-radius: 0.35em; vertical-align: middle; margin-left: 0.5rem\">PERSON</span>\n",
              "</mark>\n",
              " reports<br>\n",
              "<mark class=\"entity\" style=\"background: #e4e7d2; padding: 0.45em 0.6em; margin: 0 0.25em; line-height: 1; border-radius: 0.35em;\">\n",
              "    60%\n",
              "    <span style=\"font-size: 0.8em; font-weight: bold; line-height: 1; border-radius: 0.35em; vertical-align: middle; margin-left: 0.5rem\">PERCENT</span>\n",
              "</mark>\n",
              " OF GLOBAL COBALT SUPPLY AT RISK AS DRC CRACKDOWN INTENSIFIES<br>\n",
              "<mark class=\"entity\" style=\"background: #7aecec; padding: 0.45em 0.6em; margin: 0 0.25em; line-height: 1; border-radius: 0.35em;\">\n",
              "    Bolt Metals Corp.\n",
              "    <span style=\"font-size: 0.8em; font-weight: bold; line-height: 1; border-radius: 0.35em; vertical-align: middle; margin-left: 0.5rem\">ORG</span>\n",
              "</mark>\n",
              " has noted \n",
              "<mark class=\"entity\" style=\"background: #7aecec; padding: 0.45em 0.6em; margin: 0 0.25em; line-height: 1; border-radius: 0.35em;\">\n",
              "    the Financial Times\n",
              "    <span style=\"font-size: 0.8em; font-weight: bold; line-height: 1; border-radius: 0.35em; vertical-align: middle; margin-left: 0.5rem\">ORG</span>\n",
              "</mark>\n",
              " reported that \n",
              "<mark class=\"entity\" style=\"background: #aa9cfc; padding: 0.45em 0.6em; margin: 0 0.25em; line-height: 1; border-radius: 0.35em;\">\n",
              "    Huayou Cobalt\n",
              "    <span style=\"font-size: 0.8em; font-weight: bold; line-height: 1; border-radius: 0.35em; vertical-align: middle; margin-left: 0.5rem\">PERSON</span>\n",
              "</mark>\n",
              ", &quot;\n",
              "<mark class=\"entity\" style=\"background: #feca74; padding: 0.45em 0.6em; margin: 0 0.25em; line-height: 1; border-radius: 0.35em;\">\n",
              "    China\n",
              "    <span style=\"font-size: 0.8em; font-weight: bold; line-height: 1; border-radius: 0.35em; vertical-align: middle; margin-left: 0.5rem\">GPE</span>\n",
              "</mark>\n",
              "'s top cobalt producer, halts buying from \n",
              "<mark class=\"entity\" style=\"background: #feca74; padding: 0.45em 0.6em; margin: 0 0.25em; line-height: 1; border-radius: 0.35em;\">\n",
              "    Congo\n",
              "    <span style=\"font-size: 0.8em; font-weight: bold; line-height: 1; border-radius: 0.35em; vertical-align: middle; margin-left: 0.5rem\">GPE</span>\n",
              "</mark>\n",
              " miners.&quot; It's widely reported that \n",
              "<mark class=\"entity\" style=\"background: #feca74; padding: 0.45em 0.6em; margin: 0 0.25em; line-height: 1; border-radius: 0.35em;\">\n",
              "    the Democratic Republic of Congo\n",
              "    <span style=\"font-size: 0.8em; font-weight: bold; line-height: 1; border-radius: 0.35em; vertical-align: middle; margin-left: 0.5rem\">GPE</span>\n",
              "</mark>\n",
              " (the &quot;DRC&quot;) represents \n",
              "<mark class=\"entity\" style=\"background: #e4e7d2; padding: 0.45em 0.6em; margin: 0 0.25em; line-height: 1; border-radius: 0.35em;\">\n",
              "    60%\n",
              "    <span style=\"font-size: 0.8em; font-weight: bold; line-height: 1; border-radius: 0.35em; vertical-align: middle; margin-left: 0.5rem\">PERCENT</span>\n",
              "</mark>\n",
              " of global cobalt production.<br>\n",
              "<mark class=\"entity\" style=\"background: #feca74; padding: 0.45em 0.6em; margin: 0 0.25em; line-height: 1; border-radius: 0.35em;\">\n",
              "    Shanghai\n",
              "    <span style=\"font-size: 0.8em; font-weight: bold; line-height: 1; border-radius: 0.35em; vertical-align: middle; margin-left: 0.5rem\">GPE</span>\n",
              "</mark>\n",
              "-listed \n",
              "<mark class=\"entity\" style=\"background: #bfeeb7; padding: 0.45em 0.6em; margin: 0 0.25em; line-height: 1; border-radius: 0.35em;\">\n",
              "    Huayou\n",
              "    <span style=\"font-size: 0.8em; font-weight: bold; line-height: 1; border-radius: 0.35em; vertical-align: middle; margin-left: 0.5rem\">PRODUCT</span>\n",
              "</mark>\n",
              " supplies cobalt to battery makers \n",
              "<mark class=\"entity\" style=\"background: #7aecec; padding: 0.45em 0.6em; margin: 0 0.25em; line-height: 1; border-radius: 0.35em;\">\n",
              "    LG Chem of South Korea\n",
              "    <span style=\"font-size: 0.8em; font-weight: bold; line-height: 1; border-radius: 0.35em; vertical-align: middle; margin-left: 0.5rem\">ORG</span>\n",
              "</mark>\n",
              " and CATL of \n",
              "<mark class=\"entity\" style=\"background: #feca74; padding: 0.45em 0.6em; margin: 0 0.25em; line-height: 1; border-radius: 0.35em;\">\n",
              "    China\n",
              "    <span style=\"font-size: 0.8em; font-weight: bold; line-height: 1; border-radius: 0.35em; vertical-align: middle; margin-left: 0.5rem\">GPE</span>\n",
              "</mark>\n",
              ", as well as \n",
              "<mark class=\"entity\" style=\"background: #c887fb; padding: 0.45em 0.6em; margin: 0 0.25em; line-height: 1; border-radius: 0.35em;\">\n",
              "    Chinese\n",
              "    <span style=\"font-size: 0.8em; font-weight: bold; line-height: 1; border-radius: 0.35em; vertical-align: middle; margin-left: 0.5rem\">NORP</span>\n",
              "</mark>\n",
              " carmaker \n",
              "<mark class=\"entity\" style=\"background: #7aecec; padding: 0.45em 0.6em; margin: 0 0.25em; line-height: 1; border-radius: 0.35em;\">\n",
              "    BYD\n",
              "    <span style=\"font-size: 0.8em; font-weight: bold; line-height: 1; border-radius: 0.35em; vertical-align: middle; margin-left: 0.5rem\">ORG</span>\n",
              "</mark>\n",
              " and \n",
              "<mark class=\"entity\" style=\"background: #feca74; padding: 0.45em 0.6em; margin: 0 0.25em; line-height: 1; border-radius: 0.35em;\">\n",
              "    Germany\n",
              "    <span style=\"font-size: 0.8em; font-weight: bold; line-height: 1; border-radius: 0.35em; vertical-align: middle; margin-left: 0.5rem\">GPE</span>\n",
              "</mark>\n",
              "'s \n",
              "<mark class=\"entity\" style=\"background: #7aecec; padding: 0.45em 0.6em; margin: 0 0.25em; line-height: 1; border-radius: 0.35em;\">\n",
              "    Volkswagen\n",
              "    <span style=\"font-size: 0.8em; font-weight: bold; line-height: 1; border-radius: 0.35em; vertical-align: middle; margin-left: 0.5rem\">ORG</span>\n",
              "</mark>\n",
              ".<br>Bowing to international pressure to shutter its conflict-sourced cobalt, \n",
              "<mark class=\"entity\" style=\"background: #aa9cfc; padding: 0.45em 0.6em; margin: 0 0.25em; line-height: 1; border-radius: 0.35em;\">\n",
              "    Huayou\n",
              "    <span style=\"font-size: 0.8em; font-weight: bold; line-height: 1; border-radius: 0.35em; vertical-align: middle; margin-left: 0.5rem\">PERSON</span>\n",
              "</mark>\n",
              " is the latest conglomerate to exit the \n",
              "<mark class=\"entity\" style=\"background: #7aecec; padding: 0.45em 0.6em; margin: 0 0.25em; line-height: 1; border-radius: 0.35em;\">\n",
              "    DRC\n",
              "    <span style=\"font-size: 0.8em; font-weight: bold; line-height: 1; border-radius: 0.35em; vertical-align: middle; margin-left: 0.5rem\">ORG</span>\n",
              "</mark>\n",
              ", joining \n",
              "<mark class=\"entity\" style=\"background: #7aecec; padding: 0.45em 0.6em; margin: 0 0.25em; line-height: 1; border-radius: 0.35em;\">\n",
              "    Apple\n",
              "    <span style=\"font-size: 0.8em; font-weight: bold; line-height: 1; border-radius: 0.35em; vertical-align: middle; margin-left: 0.5rem\">ORG</span>\n",
              "</mark>\n",
              ", \n",
              "<mark class=\"entity\" style=\"background: #7aecec; padding: 0.45em 0.6em; margin: 0 0.25em; line-height: 1; border-radius: 0.35em;\">\n",
              "    Google\n",
              "    <span style=\"font-size: 0.8em; font-weight: bold; line-height: 1; border-radius: 0.35em; vertical-align: middle; margin-left: 0.5rem\">ORG</span>\n",
              "</mark>\n",
              " and several auto manufacturers. Huayou is looking to raise $\n",
              "<mark class=\"entity\" style=\"background: #e4e7d2; padding: 0.45em 0.6em; margin: 0 0.25em; line-height: 1; border-radius: 0.35em;\">\n",
              "    870\n",
              "    <span style=\"font-size: 0.8em; font-weight: bold; line-height: 1; border-radius: 0.35em; vertical-align: middle; margin-left: 0.5rem\">MONEY</span>\n",
              "</mark>\n",
              "m in an effort to expand nickel and cobalt sulphate production in \n",
              "<mark class=\"entity\" style=\"background: #feca74; padding: 0.45em 0.6em; margin: 0 0.25em; line-height: 1; border-radius: 0.35em;\">\n",
              "    Indonesia\n",
              "    <span style=\"font-size: 0.8em; font-weight: bold; line-height: 1; border-radius: 0.35em; vertical-align: middle; margin-left: 0.5rem\">GPE</span>\n",
              "</mark>\n",
              ". \n",
              "<mark class=\"entity\" style=\"background: #aa9cfc; padding: 0.45em 0.6em; margin: 0 0.25em; line-height: 1; border-radius: 0.35em;\">\n",
              "    Huayou\n",
              "    <span style=\"font-size: 0.8em; font-weight: bold; line-height: 1; border-radius: 0.35em; vertical-align: middle; margin-left: 0.5rem\">PERSON</span>\n",
              "</mark>\n",
              "'s plant in \n",
              "<mark class=\"entity\" style=\"background: #feca74; padding: 0.45em 0.6em; margin: 0 0.25em; line-height: 1; border-radius: 0.35em;\">\n",
              "    Indonesia\n",
              "    <span style=\"font-size: 0.8em; font-weight: bold; line-height: 1; border-radius: 0.35em; vertical-align: middle; margin-left: 0.5rem\">GPE</span>\n",
              "</mark>\n",
              "'s \n",
              "<mark class=\"entity\" style=\"background: #feca74; padding: 0.45em 0.6em; margin: 0 0.25em; line-height: 1; border-radius: 0.35em;\">\n",
              "    Morowali Industrial Park\n",
              "    <span style=\"font-size: 0.8em; font-weight: bold; line-height: 1; border-radius: 0.35em; vertical-align: middle; margin-left: 0.5rem\">GPE</span>\n",
              "</mark>\n",
              " is expected to produce \n",
              "<mark class=\"entity\" style=\"background: #e4e7d2; padding: 0.45em 0.6em; margin: 0 0.25em; line-height: 1; border-radius: 0.35em;\">\n",
              "    at least 60,000\n",
              "    <span style=\"font-size: 0.8em; font-weight: bold; line-height: 1; border-radius: 0.35em; vertical-align: middle; margin-left: 0.5rem\">CARDINAL</span>\n",
              "</mark>\n",
              " tonnes of nickel content per year within \n",
              "<mark class=\"entity\" style=\"background: #bfe1d9; padding: 0.45em 0.6em; margin: 0 0.25em; line-height: 1; border-radius: 0.35em;\">\n",
              "    2 years\n",
              "    <span style=\"font-size: 0.8em; font-weight: bold; line-height: 1; border-radius: 0.35em; vertical-align: middle; margin-left: 0.5rem\">DATE</span>\n",
              "</mark>\n",
              ".<br>\n",
              "<mark class=\"entity\" style=\"background: #aa9cfc; padding: 0.45em 0.6em; margin: 0 0.25em; line-height: 1; border-radius: 0.35em;\">\n",
              "    Ranjeet Sundher\n",
              "    <span style=\"font-size: 0.8em; font-weight: bold; line-height: 1; border-radius: 0.35em; vertical-align: middle; margin-left: 0.5rem\">PERSON</span>\n",
              "</mark>\n",
              ", CEO of \n",
              "<mark class=\"entity\" style=\"background: #7aecec; padding: 0.45em 0.6em; margin: 0 0.25em; line-height: 1; border-radius: 0.35em;\">\n",
              "    Bolt Metals\n",
              "    <span style=\"font-size: 0.8em; font-weight: bold; line-height: 1; border-radius: 0.35em; vertical-align: middle; margin-left: 0.5rem\">ORG</span>\n",
              "</mark>\n",
              ", comments, &quot;Cobalt remains an important ingredient in battery chemistries, and international markets are increasingly demanding conflict-free sources for the metal. \n",
              "<mark class=\"entity\" style=\"background: #aa9cfc; padding: 0.45em 0.6em; margin: 0 0.25em; line-height: 1; border-radius: 0.35em;\">\n",
              "    Bolt Metals\n",
              "    <span style=\"font-size: 0.8em; font-weight: bold; line-height: 1; border-radius: 0.35em; vertical-align: middle; margin-left: 0.5rem\">PERSON</span>\n",
              "</mark>\n",
              " believes \n",
              "<mark class=\"entity\" style=\"background: #feca74; padding: 0.45em 0.6em; margin: 0 0.25em; line-height: 1; border-radius: 0.35em;\">\n",
              "    Indonesia\n",
              "    <span style=\"font-size: 0.8em; font-weight: bold; line-height: 1; border-radius: 0.35em; vertical-align: middle; margin-left: 0.5rem\">GPE</span>\n",
              "</mark>\n",
              " represents a unique opportunity to exploit cobalt as a byproduct of the countries abundant nickel resources. Our flagship \n",
              "<mark class=\"entity\" style=\"background: #7aecec; padding: 0.45em 0.6em; margin: 0 0.25em; line-height: 1; border-radius: 0.35em;\">\n",
              "    Cyclops\n",
              "    <span style=\"font-size: 0.8em; font-weight: bold; line-height: 1; border-radius: 0.35em; vertical-align: middle; margin-left: 0.5rem\">ORG</span>\n",
              "</mark>\n",
              " nickel-cobalt asset has demonstrated strong results from \n",
              "<mark class=\"entity\" style=\"background: #bfe1d9; padding: 0.45em 0.6em; margin: 0 0.25em; line-height: 1; border-radius: 0.35em;\">\n",
              "    2018-19\n",
              "    <span style=\"font-size: 0.8em; font-weight: bold; line-height: 1; border-radius: 0.35em; vertical-align: middle; margin-left: 0.5rem\">DATE</span>\n",
              "</mark>\n",
              " drilling and benchmark analysis, providing an essential foundation for the eventual development of a pilot plant.&quot;<br>Recent positive developments within \n",
              "<mark class=\"entity\" style=\"background: #feca74; padding: 0.45em 0.6em; margin: 0 0.25em; line-height: 1; border-radius: 0.35em;\">\n",
              "    Indonesia\n",
              "    <span style=\"font-size: 0.8em; font-weight: bold; line-height: 1; border-radius: 0.35em; vertical-align: middle; margin-left: 0.5rem\">GPE</span>\n",
              "</mark>\n",
              "'s mining sector have generated significant interest in \n",
              "<mark class=\"entity\" style=\"background: #7aecec; padding: 0.45em 0.6em; margin: 0 0.25em; line-height: 1; border-radius: 0.35em;\">\n",
              "    Bolt Metals\n",
              "    <span style=\"font-size: 0.8em; font-weight: bold; line-height: 1; border-radius: 0.35em; vertical-align: middle; margin-left: 0.5rem\">ORG</span>\n",
              "</mark>\n",
              " and its \n",
              "<mark class=\"entity\" style=\"background: #7aecec; padding: 0.45em 0.6em; margin: 0 0.25em; line-height: 1; border-radius: 0.35em;\">\n",
              "    Cyclops\n",
              "    <span style=\"font-size: 0.8em; font-weight: bold; line-height: 1; border-radius: 0.35em; vertical-align: middle; margin-left: 0.5rem\">ORG</span>\n",
              "</mark>\n",
              " project from downstream battery metal suppliers within \n",
              "<mark class=\"entity\" style=\"background: #feca74; padding: 0.45em 0.6em; margin: 0 0.25em; line-height: 1; border-radius: 0.35em;\">\n",
              "    Indonesia\n",
              "    <span style=\"font-size: 0.8em; font-weight: bold; line-height: 1; border-radius: 0.35em; vertical-align: middle; margin-left: 0.5rem\">GPE</span>\n",
              "</mark>\n",
              " as well as \n",
              "<mark class=\"entity\" style=\"background: #feca74; padding: 0.45em 0.6em; margin: 0 0.25em; line-height: 1; border-radius: 0.35em;\">\n",
              "    China\n",
              "    <span style=\"font-size: 0.8em; font-weight: bold; line-height: 1; border-radius: 0.35em; vertical-align: middle; margin-left: 0.5rem\">GPE</span>\n",
              "</mark>\n",
              ", the largest battery metals market in the world.<br>\n",
              "<mark class=\"entity\" style=\"background: #7aecec; padding: 0.45em 0.6em; margin: 0 0.25em; line-height: 1; border-radius: 0.35em;\">\n",
              "    Bolt Metals\n",
              "    <span style=\"font-size: 0.8em; font-weight: bold; line-height: 1; border-radius: 0.35em; vertical-align: middle; margin-left: 0.5rem\">ORG</span>\n",
              "</mark>\n",
              " has signed preliminary offtake agreements with \n",
              "<mark class=\"entity\" style=\"background: #7aecec; padding: 0.45em 0.6em; margin: 0 0.25em; line-height: 1; border-radius: 0.35em;\">\n",
              "    Beijing Easpring\n",
              "    <span style=\"font-size: 0.8em; font-weight: bold; line-height: 1; border-radius: 0.35em; vertical-align: middle; margin-left: 0.5rem\">ORG</span>\n",
              "</mark>\n",
              ", \n",
              "<mark class=\"entity\" style=\"background: #feca74; padding: 0.45em 0.6em; margin: 0 0.25em; line-height: 1; border-radius: 0.35em;\">\n",
              "    China\n",
              "    <span style=\"font-size: 0.8em; font-weight: bold; line-height: 1; border-radius: 0.35em; vertical-align: middle; margin-left: 0.5rem\">GPE</span>\n",
              "</mark>\n",
              "'s top battery metals supplier (please refer to the \n",
              "<mark class=\"entity\" style=\"background: #7aecec; padding: 0.45em 0.6em; margin: 0 0.25em; line-height: 1; border-radius: 0.35em;\">\n",
              "    Company\n",
              "    <span style=\"font-size: 0.8em; font-weight: bold; line-height: 1; border-radius: 0.35em; vertical-align: middle; margin-left: 0.5rem\">ORG</span>\n",
              "</mark>\n",
              "'s press release issued \n",
              "<mark class=\"entity\" style=\"background: #bfe1d9; padding: 0.45em 0.6em; margin: 0 0.25em; line-height: 1; border-radius: 0.35em;\">\n",
              "    July 11, 2018\n",
              "    <span style=\"font-size: 0.8em; font-weight: bold; line-height: 1; border-radius: 0.35em; vertical-align: middle; margin-left: 0.5rem\">DATE</span>\n",
              "</mark>\n",
              ") and \n",
              "<mark class=\"entity\" style=\"background: #aa9cfc; padding: 0.45em 0.6em; margin: 0 0.25em; line-height: 1; border-radius: 0.35em;\">\n",
              "    Junan Jinxin\n",
              "    <span style=\"font-size: 0.8em; font-weight: bold; line-height: 1; border-radius: 0.35em; vertical-align: middle; margin-left: 0.5rem\">PERSON</span>\n",
              "</mark>\n",
              " (please refer to the \n",
              "<mark class=\"entity\" style=\"background: #7aecec; padding: 0.45em 0.6em; margin: 0 0.25em; line-height: 1; border-radius: 0.35em;\">\n",
              "    Company\n",
              "    <span style=\"font-size: 0.8em; font-weight: bold; line-height: 1; border-radius: 0.35em; vertical-align: middle; margin-left: 0.5rem\">ORG</span>\n",
              "</mark>\n",
              "'s press release issued \n",
              "<mark class=\"entity\" style=\"background: #bfe1d9; padding: 0.45em 0.6em; margin: 0 0.25em; line-height: 1; border-radius: 0.35em;\">\n",
              "    March 5, 2020\n",
              "    <span style=\"font-size: 0.8em; font-weight: bold; line-height: 1; border-radius: 0.35em; vertical-align: middle; margin-left: 0.5rem\">DATE</span>\n",
              "</mark>\n",
              "), primarily engaged in the acquisition, production, processing and marketing of tungsten and cobalt \n",
              "<mark class=\"entity\" style=\"background: #e4e7d2; padding: 0.45em 0.6em; margin: 0 0.25em; line-height: 1; border-radius: 0.35em;\">\n",
              "    1\n",
              "    <span style=\"font-size: 0.8em; font-weight: bold; line-height: 1; border-radius: 0.35em; vertical-align: middle; margin-left: 0.5rem\">CARDINAL</span>\n",
              "</mark>\n",
              " . Both agreements provide a strategic investment option. \n",
              "<mark class=\"entity\" style=\"background: #aa9cfc; padding: 0.45em 0.6em; margin: 0 0.25em; line-height: 1; border-radius: 0.35em;\">\n",
              "    Bolt Metals\n",
              "    <span style=\"font-size: 0.8em; font-weight: bold; line-height: 1; border-radius: 0.35em; vertical-align: middle; margin-left: 0.5rem\">PERSON</span>\n",
              "</mark>\n",
              " is working toward signing definitive agreements with both companies, while preparing for the commencement of construction of a pilot plant in \n",
              "<mark class=\"entity\" style=\"background: #feca74; padding: 0.45em 0.6em; margin: 0 0.25em; line-height: 1; border-radius: 0.35em;\">\n",
              "    Canada\n",
              "    <span style=\"font-size: 0.8em; font-weight: bold; line-height: 1; border-radius: 0.35em; vertical-align: middle; margin-left: 0.5rem\">GPE</span>\n",
              "</mark>\n",
              ".<br>Processing results from the pilot plant will be used to establish design criteria for the subsequent demonstration plant in \n",
              "<mark class=\"entity\" style=\"background: #feca74; padding: 0.45em 0.6em; margin: 0 0.25em; line-height: 1; border-radius: 0.35em;\">\n",
              "    Indonesia\n",
              "    <span style=\"font-size: 0.8em; font-weight: bold; line-height: 1; border-radius: 0.35em; vertical-align: middle; margin-left: 0.5rem\">GPE</span>\n",
              "</mark>\n",
              ", which will produce nickel and cobalt products suitable to meet market specifications. As well as demonstrating \n",
              "<mark class=\"entity\" style=\"background: #7aecec; padding: 0.45em 0.6em; margin: 0 0.25em; line-height: 1; border-radius: 0.35em;\">\n",
              "    Bolt Metal's\n",
              "    <span style=\"font-size: 0.8em; font-weight: bold; line-height: 1; border-radius: 0.35em; vertical-align: middle; margin-left: 0.5rem\">ORG</span>\n",
              "</mark>\n",
              " ability to produce a product within market specifications, the demonstration plant will be used to establish design criteria for a commercial full-scale plant.<br>\n",
              "<mark class=\"entity\" style=\"background: #e4e7d2; padding: 0.45em 0.6em; margin: 0 0.25em; line-height: 1; border-radius: 0.35em;\">\n",
              "    1\n",
              "    <span style=\"font-size: 0.8em; font-weight: bold; line-height: 1; border-radius: 0.35em; vertical-align: middle; margin-left: 0.5rem\">CARDINAL</span>\n",
              "</mark>\n",
              " The Company has not made a decision to proceed to production and would not do so without \n",
              "<mark class=\"entity\" style=\"background: #e4e7d2; padding: 0.45em 0.6em; margin: 0 0.25em; line-height: 1; border-radius: 0.35em;\">\n",
              "    first\n",
              "    <span style=\"font-size: 0.8em; font-weight: bold; line-height: 1; border-radius: 0.35em; vertical-align: middle; margin-left: 0.5rem\">ORDINAL</span>\n",
              "</mark>\n",
              " establishing mineral reserves.<br>About \n",
              "<mark class=\"entity\" style=\"background: #aa9cfc; padding: 0.45em 0.6em; margin: 0 0.25em; line-height: 1; border-radius: 0.35em;\">\n",
              "    Bolt Metals\n",
              "    <span style=\"font-size: 0.8em; font-weight: bold; line-height: 1; border-radius: 0.35em; vertical-align: middle; margin-left: 0.5rem\">PERSON</span>\n",
              "</mark>\n",
              "<br>\n",
              "<mark class=\"entity\" style=\"background: #7aecec; padding: 0.45em 0.6em; margin: 0 0.25em; line-height: 1; border-radius: 0.35em;\">\n",
              "    BOLT Metals\n",
              "    <span style=\"font-size: 0.8em; font-weight: bold; line-height: 1; border-radius: 0.35em; vertical-align: middle; margin-left: 0.5rem\">ORG</span>\n",
              "</mark>\n",
              " is a \n",
              "<mark class=\"entity\" style=\"background: #c887fb; padding: 0.45em 0.6em; margin: 0 0.25em; line-height: 1; border-radius: 0.35em;\">\n",
              "    Canadian\n",
              "    <span style=\"font-size: 0.8em; font-weight: bold; line-height: 1; border-radius: 0.35em; vertical-align: middle; margin-left: 0.5rem\">NORP</span>\n",
              "</mark>\n",
              "-based exploration company focused on the acquisition and development of production grade nickel and cobalt deposits, key raw material inputs for the growing lithium-ion battery industry.<br>We seek \n",
              "<mark class=\"entity\" style=\"background: #ff9561; padding: 0.45em 0.6em; margin: 0 0.25em; line-height: 1; border-radius: 0.35em;\">\n",
              "    Safe Harbor\n",
              "    <span style=\"font-size: 0.8em; font-weight: bold; line-height: 1; border-radius: 0.35em; vertical-align: middle; margin-left: 0.5rem\">LOC</span>\n",
              "</mark>\n",
              ".<br> </div></span>"
            ]
          },
          "metadata": {}
        }
      ]
    },
    {
      "cell_type": "markdown",
      "source": [
        "2. Follow directions to set up one of the Information Extraction services below, and write a Python program implementing API calls to extract Company/Organization and Geo entities from  the article chosen in Step 1. Print all the recognized entities in (entity, label) tuple format."
      ],
      "metadata": {
        "id": "Re_vUJAszwAs"
      }
    },
    {
      "cell_type": "code",
      "source": [
        "import os\n",
        "from google.cloud import language_v1\n",
        "\n",
        "json_key_path = '/content/key.json'\n",
        "os.environ['GOOGLE_APPLICATION_CREDENTIALS'] = json_key_path\n",
        "\n",
        "# Create a client for the Google Natural Language API\n",
        "client = language_v1.LanguageServiceClient()\n",
        "\n",
        "content = article\n",
        "\n",
        "# Specify the document type and content\n",
        "document = language_v1.Document(content=content, type_=language_v1.Document.Type.PLAIN_TEXT)\n",
        "\n",
        "# Analyze entities\n",
        "response = client.analyze_entities(document=document, encoding_type=language_v1.EncodingType.UTF8)\n",
        "\n",
        "# Extract only Location and Organization entities\n",
        "location_entities = [(entity.name, language_v1.Entity.Type(entity.type).name) for entity in response.entities if entity.type == language_v1.Entity.Type.LOCATION]\n",
        "organization_entities = [(entity.name, language_v1.Entity.Type(entity.type).name) for entity in response.entities if entity.type == language_v1.Entity.Type.ORGANIZATION]\n",
        "\n",
        "# Print Location entities\n",
        "print(\"Location Entities:\")\n",
        "print(location_entities)\n",
        "\n",
        "# Print Organization entities\n",
        "print(\"Organization Entities:\")\n",
        "print(organization_entities)"
      ],
      "metadata": {
        "id": "fmVIU9txm_Vy"
      },
      "execution_count": null,
      "outputs": []
    },
    {
      "cell_type": "markdown",
      "source": [
        "3. Use the Class Exercise B NER Download Class Exercise B NER notebook as a reference to:\n",
        "!pip install spacy\n",
        "update TRAIN_DATA with annotations of entities (PERSON, LOCATION, or ORGANIZATION) from each sentence in the article selected in step 1\n",
        "train a blank SpaCy nlp pipeline using the TRAIN_DATA\n",
        "use trained nlp to test entity recognition on another random news article from Webhose and print the entities in a list of (entity, label) tuples, and visualize these entities using displaCy."
      ],
      "metadata": {
        "id": "mUjdzW6Lz2W9"
      }
    },
    {
      "cell_type": "code",
      "source": [
        "import re"
      ],
      "metadata": {
        "id": "f1o_AejwmouG"
      },
      "execution_count": 6,
      "outputs": []
    },
    {
      "cell_type": "code",
      "source": [
        "import nltk\n",
        "nltk.download('punkt')  # Download necessary data (if not already downloaded)\n",
        "\n",
        "from nltk.tokenize import sent_tokenize\n",
        "\n",
        "# Your input text\n",
        "text = article\n",
        "# Split the text into sentences\n",
        "sentences = sent_tokenize(text)\n",
        "\n",
        "# Store the sentences in a list\n",
        "sents = sentences\n",
        "\n",
        "# Print the list of sentences\n",
        "for sentence in sents:\n",
        "    print(sentence)\n"
      ],
      "metadata": {
        "colab": {
          "base_uri": "https://localhost:8080/"
        },
        "id": "q8-2PzDJpZ5E",
        "outputId": "29d58578-89a4-4bdf-80e9-38bf7077f204"
      },
      "execution_count": 8,
      "outputs": [
        {
          "output_type": "stream",
          "name": "stdout",
          "text": [
            "Mr. Ranjeet Sundher reports\n",
            "60% OF GLOBAL COBALT SUPPLY AT RISK AS DRC CRACKDOWN INTENSIFIES\n",
            "Bolt Metals Corp. has noted the Financial Times reported that Huayou Cobalt, \"China's top cobalt producer, halts buying from Congo miners.\"\n",
            "It's widely reported that the Democratic Republic of Congo (the \"DRC\") represents 60% of global cobalt production.\n",
            "Shanghai-listed Huayou supplies cobalt to battery makers LG Chem of South Korea and CATL of China, as well as Chinese carmaker BYD and Germany's Volkswagen.\n",
            "Bowing to international pressure to shutter its conflict-sourced cobalt, Huayou is the latest conglomerate to exit the DRC, joining Apple, Google and several auto manufacturers.\n",
            "Huayou is looking to raise $870m in an effort to expand nickel and cobalt sulphate production in Indonesia.\n",
            "Huayou's plant in Indonesia's Morowali Industrial Park is expected to produce at least 60,000 tonnes of nickel content per year within 2 years.\n",
            "Ranjeet Sundher, CEO of Bolt Metals, comments, \"Cobalt remains an important ingredient in battery chemistries, and international markets are increasingly demanding conflict-free sources for the metal.\n",
            "Bolt Metals believes Indonesia represents a unique opportunity to exploit cobalt as a byproduct of the countries abundant nickel resources.\n",
            "Our flagship Cyclops nickel-cobalt asset has demonstrated strong results from 2018-19 drilling and benchmark analysis, providing an essential foundation for the eventual development of a pilot plant.\"\n",
            "Recent positive developments within Indonesia's mining sector have generated significant interest in Bolt Metals and its Cyclops project from downstream battery metal suppliers within Indonesia as well as China, the largest battery metals market in the world.\n",
            "Bolt Metals has signed preliminary offtake agreements with Beijing Easpring, China's top battery metals supplier (please refer to the Company's press release issued July 11, 2018) and Junan Jinxin (please refer to the Company's press release issued March 5, 2020), primarily engaged in the acquisition, production, processing and marketing of tungsten and cobalt 1 .\n",
            "Both agreements provide a strategic investment option.\n",
            "Bolt Metals is working toward signing definitive agreements with both companies, while preparing for the commencement of construction of a pilot plant in Canada.\n",
            "Processing results from the pilot plant will be used to establish design criteria for the subsequent demonstration plant in Indonesia, which will produce nickel and cobalt products suitable to meet market specifications.\n",
            "As well as demonstrating Bolt Metal's ability to produce a product within market specifications, the demonstration plant will be used to establish design criteria for a commercial full-scale plant.\n",
            "1 The Company has not made a decision to proceed to production and would not do so without first establishing mineral reserves.\n",
            "About Bolt Metals\n",
            "BOLT Metals is a Canadian-based exploration company focused on the acquisition and development of production grade nickel and cobalt deposits, key raw material inputs for the growing lithium-ion battery industry.\n",
            "We seek Safe Harbor.\n"
          ]
        },
        {
          "output_type": "stream",
          "name": "stderr",
          "text": [
            "[nltk_data] Downloading package punkt to /root/nltk_data...\n",
            "[nltk_data]   Package punkt is already up-to-date!\n"
          ]
        }
      ]
    },
    {
      "cell_type": "code",
      "source": [
        "print(sents)"
      ],
      "metadata": {
        "colab": {
          "base_uri": "https://localhost:8080/"
        },
        "id": "72SaNLHSsJLK",
        "outputId": "89ef03f9-41e1-4cb5-e8fe-5826e51cabc3"
      },
      "execution_count": null,
      "outputs": [
        {
          "output_type": "stream",
          "name": "stdout",
          "text": [
            "['Mr. Ranjeet Sundher reports\\n60% OF GLOBAL COBALT SUPPLY AT RISK AS DRC CRACKDOWN INTENSIFIES\\nBolt Metals Corp. has noted the Financial Times reported that Huayou Cobalt, \"China\\'s top cobalt producer, halts buying from Congo miners.\"', 'It\\'s widely reported that the Democratic Republic of Congo (the \"DRC\") represents 60% of global cobalt production.', \"Shanghai-listed Huayou supplies cobalt to battery makers LG Chem of South Korea and CATL of China, as well as Chinese carmaker BYD and Germany's Volkswagen.\", 'Bowing to international pressure to shutter its conflict-sourced cobalt, Huayou is the latest conglomerate to exit the DRC, joining Apple, Google and several auto manufacturers.', 'Huayou is looking to raise $870m in an effort to expand nickel and cobalt sulphate production in Indonesia.', \"Huayou's plant in Indonesia's Morowali Industrial Park is expected to produce at least 60,000 tonnes of nickel content per year within 2 years.\", 'Ranjeet Sundher, CEO of Bolt Metals, comments, \"Cobalt remains an important ingredient in battery chemistries, and international markets are increasingly demanding conflict-free sources for the metal.', 'Bolt Metals believes Indonesia represents a unique opportunity to exploit cobalt as a byproduct of the countries abundant nickel resources.', 'Our flagship Cyclops nickel-cobalt asset has demonstrated strong results from 2018-19 drilling and benchmark analysis, providing an essential foundation for the eventual development of a pilot plant.\"', \"Recent positive developments within Indonesia's mining sector have generated significant interest in Bolt Metals and its Cyclops project from downstream battery metal suppliers within Indonesia as well as China, the largest battery metals market in the world.\", \"Bolt Metals has signed preliminary offtake agreements with Beijing Easpring, China's top battery metals supplier (please refer to the Company's press release issued July 11, 2018) and Junan Jinxin (please refer to the Company's press release issued March 5, 2020), primarily engaged in the acquisition, production, processing and marketing of tungsten and cobalt 1 .\", 'Both agreements provide a strategic investment option.', 'Bolt Metals is working toward signing definitive agreements with both companies, while preparing for the commencement of construction of a pilot plant in Canada.', 'Processing results from the pilot plant will be used to establish design criteria for the subsequent demonstration plant in Indonesia, which will produce nickel and cobalt products suitable to meet market specifications.', \"As well as demonstrating Bolt Metal's ability to produce a product within market specifications, the demonstration plant will be used to establish design criteria for a commercial full-scale plant.\", '1 The Company has not made a decision to proceed to production and would not do so without first establishing mineral reserves.', 'About Bolt Metals\\nBOLT Metals is a Canadian-based exploration company focused on the acquisition and development of production grade nickel and cobalt deposits, key raw material inputs for the growing lithium-ion battery industry.', 'We seek Safe Harbor.']\n"
          ]
        }
      ]
    },
    {
      "cell_type": "code",
      "source": [
        "re.search(r'Bolt Metals Corp', sents[0])"
      ],
      "metadata": {
        "colab": {
          "base_uri": "https://localhost:8080/"
        },
        "id": "vJSUkfOzo0Oh",
        "outputId": "ff055dc9-b323-4f55-99cc-23718488333e"
      },
      "execution_count": null,
      "outputs": [
        {
          "output_type": "execute_result",
          "data": {
            "text/plain": [
              "<re.Match object; span=(93, 109), match='Bolt Metals Corp'>"
            ]
          },
          "metadata": {},
          "execution_count": 63
        }
      ]
    },
    {
      "cell_type": "code",
      "source": [
        "re.search(r'the Financial Times', sents[0])"
      ],
      "metadata": {
        "colab": {
          "base_uri": "https://localhost:8080/"
        },
        "id": "eMv6ok-pzkrS",
        "outputId": "05f06dac-7436-430a-c5bd-3a71d9ced352"
      },
      "execution_count": null,
      "outputs": [
        {
          "output_type": "execute_result",
          "data": {
            "text/plain": [
              "<re.Match object; span=(121, 140), match='the Financial Times'>"
            ]
          },
          "metadata": {},
          "execution_count": 62
        }
      ]
    },
    {
      "cell_type": "code",
      "source": [
        "re.search(r'LG Chem of South Korea', sents[2])"
      ],
      "metadata": {
        "colab": {
          "base_uri": "https://localhost:8080/"
        },
        "id": "OrTqY63vuiT6",
        "outputId": "7f391e32-c639-402b-fbb4-0e4781829ec2"
      },
      "execution_count": null,
      "outputs": [
        {
          "output_type": "execute_result",
          "data": {
            "text/plain": [
              "<re.Match object; span=(57, 79), match='LG Chem of South Korea'>"
            ]
          },
          "metadata": {},
          "execution_count": 34
        }
      ]
    },
    {
      "cell_type": "code",
      "source": [
        "re.search(r'BYD', sents[2])"
      ],
      "metadata": {
        "colab": {
          "base_uri": "https://localhost:8080/"
        },
        "id": "xgudQ27kuseG",
        "outputId": "cad48f2e-bc20-4e52-ce11-ae7c5021772f"
      },
      "execution_count": null,
      "outputs": [
        {
          "output_type": "execute_result",
          "data": {
            "text/plain": [
              "<re.Match object; span=(127, 130), match='BYD'>"
            ]
          },
          "metadata": {},
          "execution_count": 35
        }
      ]
    },
    {
      "cell_type": "code",
      "source": [
        "re.search(r'Volkswagen', sents[2])"
      ],
      "metadata": {
        "colab": {
          "base_uri": "https://localhost:8080/"
        },
        "id": "eEwQTHAbuv5e",
        "outputId": "51894ee1-0d1d-4e5c-ff4d-898e678cc339"
      },
      "execution_count": null,
      "outputs": [
        {
          "output_type": "execute_result",
          "data": {
            "text/plain": [
              "<re.Match object; span=(145, 155), match='Volkswagen'>"
            ]
          },
          "metadata": {},
          "execution_count": 36
        }
      ]
    },
    {
      "cell_type": "code",
      "source": [
        "re.search(r'DRC', sents[3])"
      ],
      "metadata": {
        "colab": {
          "base_uri": "https://localhost:8080/"
        },
        "id": "onSiCbctu2og",
        "outputId": "ad33bc2c-23bf-4136-a8c5-601a2c442b9a"
      },
      "execution_count": null,
      "outputs": [
        {
          "output_type": "execute_result",
          "data": {
            "text/plain": [
              "<re.Match object; span=(119, 122), match='DRC'>"
            ]
          },
          "metadata": {},
          "execution_count": 37
        }
      ]
    },
    {
      "cell_type": "code",
      "source": [
        "re.search(r'Apple', sents[3])"
      ],
      "metadata": {
        "colab": {
          "base_uri": "https://localhost:8080/"
        },
        "id": "ln0Y148Ju8vg",
        "outputId": "ba4fe2cf-9e95-420f-883d-8dfb3f82e0ea"
      },
      "execution_count": null,
      "outputs": [
        {
          "output_type": "execute_result",
          "data": {
            "text/plain": [
              "<re.Match object; span=(132, 137), match='Apple'>"
            ]
          },
          "metadata": {},
          "execution_count": 38
        }
      ]
    },
    {
      "cell_type": "code",
      "source": [
        "re.search(r'Google', sents[3])"
      ],
      "metadata": {
        "colab": {
          "base_uri": "https://localhost:8080/"
        },
        "id": "iaVmGPjOvBgu",
        "outputId": "54c455fc-b011-42cb-fe51-b70a7acc0f1f"
      },
      "execution_count": null,
      "outputs": [
        {
          "output_type": "execute_result",
          "data": {
            "text/plain": [
              "<re.Match object; span=(139, 145), match='Google'>"
            ]
          },
          "metadata": {},
          "execution_count": 65
        }
      ]
    },
    {
      "cell_type": "code",
      "source": [
        "re.search(r'Bolt Metals', sents[6])"
      ],
      "metadata": {
        "colab": {
          "base_uri": "https://localhost:8080/"
        },
        "id": "ISHzGqXvvJyx",
        "outputId": "8372aec2-ecb3-461f-9997-1bd149f44392"
      },
      "execution_count": null,
      "outputs": [
        {
          "output_type": "execute_result",
          "data": {
            "text/plain": [
              "<re.Match object; span=(24, 35), match='Bolt Metals'>"
            ]
          },
          "metadata": {},
          "execution_count": 44
        }
      ]
    },
    {
      "cell_type": "code",
      "source": [
        "re.search(r'Cyclops', sents[8])"
      ],
      "metadata": {
        "colab": {
          "base_uri": "https://localhost:8080/"
        },
        "id": "5hh-JIIqvVSZ",
        "outputId": "835da777-14e2-4ac9-c9b9-05fbffca608a"
      },
      "execution_count": null,
      "outputs": [
        {
          "output_type": "execute_result",
          "data": {
            "text/plain": [
              "<re.Match object; span=(13, 20), match='Cyclops'>"
            ]
          },
          "metadata": {},
          "execution_count": 48
        }
      ]
    },
    {
      "cell_type": "code",
      "source": [
        "re.search(r'Bolt Metals', sents[9])"
      ],
      "metadata": {
        "colab": {
          "base_uri": "https://localhost:8080/"
        },
        "id": "hQWbIem-xP25",
        "outputId": "f18a2b12-6b00-48cc-b1c5-2f435f73e74d"
      },
      "execution_count": null,
      "outputs": [
        {
          "output_type": "execute_result",
          "data": {
            "text/plain": [
              "<re.Match object; span=(101, 112), match='Bolt Metals'>"
            ]
          },
          "metadata": {},
          "execution_count": 49
        }
      ]
    },
    {
      "cell_type": "code",
      "source": [
        "re.search(r'Cyclops', sents[9])"
      ],
      "metadata": {
        "colab": {
          "base_uri": "https://localhost:8080/"
        },
        "id": "_OpZzuG1x6ev",
        "outputId": "e0067e9d-d09a-418f-fd97-3cf56a727d3e"
      },
      "execution_count": null,
      "outputs": [
        {
          "output_type": "execute_result",
          "data": {
            "text/plain": [
              "<re.Match object; span=(121, 128), match='Cyclops'>"
            ]
          },
          "metadata": {},
          "execution_count": 50
        }
      ]
    },
    {
      "cell_type": "code",
      "source": [
        "re.search(r'Bolt Metals', sents[10])"
      ],
      "metadata": {
        "colab": {
          "base_uri": "https://localhost:8080/"
        },
        "id": "hG2vG704yEI4",
        "outputId": "dc26c4b6-575a-4084-fa5c-e079536f9d3b"
      },
      "execution_count": null,
      "outputs": [
        {
          "output_type": "execute_result",
          "data": {
            "text/plain": [
              "<re.Match object; span=(0, 11), match='Bolt Metals'>"
            ]
          },
          "metadata": {},
          "execution_count": 51
        }
      ]
    },
    {
      "cell_type": "code",
      "source": [
        "re.search(r'Beijing Easpring', sents[10])"
      ],
      "metadata": {
        "colab": {
          "base_uri": "https://localhost:8080/"
        },
        "id": "zFdnL7i1yEPj",
        "outputId": "80ad07ae-2a90-4bd0-ae1d-cc471470507f"
      },
      "execution_count": null,
      "outputs": [
        {
          "output_type": "execute_result",
          "data": {
            "text/plain": [
              "<re.Match object; span=(59, 75), match='Beijing Easpring'>"
            ]
          },
          "metadata": {},
          "execution_count": 52
        }
      ]
    },
    {
      "cell_type": "code",
      "source": [
        "re.search(r'Company', sents[10])"
      ],
      "metadata": {
        "colab": {
          "base_uri": "https://localhost:8080/"
        },
        "id": "YjHr84g2yESi",
        "outputId": "d7c79b31-5aa1-483b-99cc-ad94a0cb5b00"
      },
      "execution_count": null,
      "outputs": [
        {
          "output_type": "execute_result",
          "data": {
            "text/plain": [
              "<re.Match object; span=(134, 141), match='Company'>"
            ]
          },
          "metadata": {},
          "execution_count": 56
        }
      ]
    },
    {
      "cell_type": "code",
      "source": [
        "re.search(r\"Bolt Metal's\", sents[14])"
      ],
      "metadata": {
        "colab": {
          "base_uri": "https://localhost:8080/"
        },
        "id": "YxKvb00tyXGC",
        "outputId": "a5789d2f-02f9-4143-dd94-2b4c576d53ee"
      },
      "execution_count": null,
      "outputs": [
        {
          "output_type": "execute_result",
          "data": {
            "text/plain": [
              "<re.Match object; span=(25, 37), match=\"Bolt Metal's\">"
            ]
          },
          "metadata": {},
          "execution_count": 60
        }
      ]
    },
    {
      "cell_type": "code",
      "source": [
        "re.search(r'Bolt Metals', sents[16])"
      ],
      "metadata": {
        "colab": {
          "base_uri": "https://localhost:8080/"
        },
        "id": "N8aSksHRyXND",
        "outputId": "c141588c-c00e-41af-fa50-0cff789fab97"
      },
      "execution_count": null,
      "outputs": [
        {
          "output_type": "execute_result",
          "data": {
            "text/plain": [
              "<re.Match object; span=(6, 17), match='Bolt Metals'>"
            ]
          },
          "metadata": {},
          "execution_count": 61
        }
      ]
    },
    {
      "cell_type": "code",
      "source": [
        "# adding the training data\n",
        "TRAIN_DATA = [\n",
        "    (sents[0],\n",
        "    {\"entities\": [(93, 109, \"ORG\"), (121, 140, \"ORG\")]}),\n",
        "\n",
        "    (sents[2],\n",
        "    {\"entities\": [(57, 79, \"ORG\"), (127, 130, \"ORG\"), (145, 155, \"ORG\")]}),\n",
        "\n",
        "    (sents[3],\n",
        "    {\"entities\": [(119, 122, \"ORG\"), (132, 137, \"ORG\"), (139, 145, \"ORG\")]}),\n",
        "\n",
        "    (sents[6],\n",
        "    {\"entities\": [(24, 35, \"ORG\")]}),\n",
        "\n",
        "    (sents[8],\n",
        "    {\"entities\": [(13, 20, \"ORG\")]}),\n",
        "\n",
        "    (sents[9],\n",
        "    {\"entities\": [(101, 112, \"ORG\"), (121, 128, \"ORG\")]}),\n",
        "\n",
        "    (sents[10],\n",
        "    {\"entities\": [(0, 11, \"ORG\"), (59, 75, \"ORG\"), (134, 141, \"ORG\")]}),\n",
        "\n",
        "    (sents[14],\n",
        "    {\"entities\": [(25, 37, \"ORG\")]}),\n",
        "\n",
        "    (sents[16],\n",
        "    {\"entities\": [(6, 17, \"ORG\")]}),\n",
        "]\n"
      ],
      "metadata": {
        "id": "-UviaYCC38V1"
      },
      "execution_count": 9,
      "outputs": []
    },
    {
      "cell_type": "code",
      "source": [
        "TRAIN_DATA"
      ],
      "metadata": {
        "colab": {
          "base_uri": "https://localhost:8080/"
        },
        "id": "EipQLC50yXTX",
        "outputId": "7ee5f86d-b9bf-4431-81f1-4685b185b9c9"
      },
      "execution_count": 10,
      "outputs": [
        {
          "output_type": "execute_result",
          "data": {
            "text/plain": [
              "[('Mr. Ranjeet Sundher reports\\n60% OF GLOBAL COBALT SUPPLY AT RISK AS DRC CRACKDOWN INTENSIFIES\\nBolt Metals Corp. has noted the Financial Times reported that Huayou Cobalt, \"China\\'s top cobalt producer, halts buying from Congo miners.\"',\n",
              "  {'entities': [(93, 109, 'ORG'), (121, 140, 'ORG')]}),\n",
              " (\"Shanghai-listed Huayou supplies cobalt to battery makers LG Chem of South Korea and CATL of China, as well as Chinese carmaker BYD and Germany's Volkswagen.\",\n",
              "  {'entities': [(57, 79, 'ORG'), (127, 130, 'ORG'), (145, 155, 'ORG')]}),\n",
              " ('Bowing to international pressure to shutter its conflict-sourced cobalt, Huayou is the latest conglomerate to exit the DRC, joining Apple, Google and several auto manufacturers.',\n",
              "  {'entities': [(119, 122, 'ORG'), (132, 137, 'ORG'), (139, 145, 'ORG')]}),\n",
              " ('Ranjeet Sundher, CEO of Bolt Metals, comments, \"Cobalt remains an important ingredient in battery chemistries, and international markets are increasingly demanding conflict-free sources for the metal.',\n",
              "  {'entities': [(24, 35, 'ORG')]}),\n",
              " ('Our flagship Cyclops nickel-cobalt asset has demonstrated strong results from 2018-19 drilling and benchmark analysis, providing an essential foundation for the eventual development of a pilot plant.\"',\n",
              "  {'entities': [(13, 20, 'ORG')]}),\n",
              " (\"Recent positive developments within Indonesia's mining sector have generated significant interest in Bolt Metals and its Cyclops project from downstream battery metal suppliers within Indonesia as well as China, the largest battery metals market in the world.\",\n",
              "  {'entities': [(101, 112, 'ORG'), (121, 128, 'ORG')]}),\n",
              " (\"Bolt Metals has signed preliminary offtake agreements with Beijing Easpring, China's top battery metals supplier (please refer to the Company's press release issued July 11, 2018) and Junan Jinxin (please refer to the Company's press release issued March 5, 2020), primarily engaged in the acquisition, production, processing and marketing of tungsten and cobalt 1 .\",\n",
              "  {'entities': [(0, 11, 'ORG'), (59, 75, 'ORG'), (134, 141, 'ORG')]}),\n",
              " (\"As well as demonstrating Bolt Metal's ability to produce a product within market specifications, the demonstration plant will be used to establish design criteria for a commercial full-scale plant.\",\n",
              "  {'entities': [(25, 37, 'ORG')]}),\n",
              " ('About Bolt Metals\\nBOLT Metals is a Canadian-based exploration company focused on the acquisition and development of production grade nickel and cobalt deposits, key raw material inputs for the growing lithium-ion battery industry.',\n",
              "  {'entities': [(6, 17, 'ORG')]})]"
            ]
          },
          "metadata": {},
          "execution_count": 10
        }
      ]
    },
    {
      "cell_type": "code",
      "source": [
        "#retrieve the (NER) component from the spaCy pipeline\n",
        "ner = nlp.get_pipe(\"ner\")"
      ],
      "metadata": {
        "id": "EFR8qQMj44Ni"
      },
      "execution_count": 11,
      "outputs": []
    },
    {
      "cell_type": "code",
      "source": [
        "# getting the summary for pipes\n",
        "nlp.analyze_pipes()['summary']"
      ],
      "metadata": {
        "colab": {
          "base_uri": "https://localhost:8080/"
        },
        "id": "HuITgWjh5R1X",
        "outputId": "ec0e7112-cd04-494d-cbe5-70672e0f65e9"
      },
      "execution_count": 12,
      "outputs": [
        {
          "output_type": "execute_result",
          "data": {
            "text/plain": [
              "{'tok2vec': {'assigns': ['doc.tensor'],\n",
              "  'requires': [],\n",
              "  'scores': [],\n",
              "  'retokenizes': False},\n",
              " 'tagger': {'assigns': ['token.tag'],\n",
              "  'requires': [],\n",
              "  'scores': ['tag_acc'],\n",
              "  'retokenizes': False},\n",
              " 'parser': {'assigns': ['token.dep',\n",
              "   'token.head',\n",
              "   'token.is_sent_start',\n",
              "   'doc.sents'],\n",
              "  'requires': [],\n",
              "  'scores': ['dep_uas',\n",
              "   'dep_las',\n",
              "   'dep_las_per_type',\n",
              "   'sents_p',\n",
              "   'sents_r',\n",
              "   'sents_f'],\n",
              "  'retokenizes': False},\n",
              " 'attribute_ruler': {'assigns': [],\n",
              "  'requires': [],\n",
              "  'scores': [],\n",
              "  'retokenizes': False},\n",
              " 'lemmatizer': {'assigns': ['token.lemma'],\n",
              "  'requires': [],\n",
              "  'scores': ['lemma_acc'],\n",
              "  'retokenizes': False},\n",
              " 'ner': {'assigns': ['doc.ents', 'token.ent_iob', 'token.ent_type'],\n",
              "  'requires': [],\n",
              "  'scores': ['ents_f', 'ents_p', 'ents_r', 'ents_per_type'],\n",
              "  'retokenizes': False}}"
            ]
          },
          "metadata": {},
          "execution_count": 12
        }
      ]
    },
    {
      "cell_type": "code",
      "source": [
        "#adding labels to ner\n",
        "for _, annotations in TRAIN_DATA:\n",
        "    for ent in annotations.get(\"entities\"):\n",
        "        ner.add_label(ent[2])"
      ],
      "metadata": {
        "id": "LuHelXUJ5UoY"
      },
      "execution_count": 14,
      "outputs": []
    },
    {
      "cell_type": "code",
      "source": [
        "from spacy.training import Example"
      ],
      "metadata": {
        "id": "pj_had3t5lyo"
      },
      "execution_count": 15,
      "outputs": []
    },
    {
      "cell_type": "code",
      "source": [
        "!pip install -U spacy spacy-lookups-data\n"
      ],
      "metadata": {
        "id": "p0twmzER5zFY"
      },
      "execution_count": null,
      "outputs": []
    },
    {
      "cell_type": "code",
      "source": [
        "!python -m spacy download en_core_web_sm\n"
      ],
      "metadata": {
        "id": "1GLhRg136CJS"
      },
      "execution_count": null,
      "outputs": []
    },
    {
      "cell_type": "code",
      "source": [
        "#sets up the training loop\n",
        "n_iter = 100\n",
        "loss_history=[]\n",
        "with nlp.select_pipes(enable=[\"ner\"]):\n",
        "    optimizer = nlp.begin_training()\n",
        "    for itn in range(n_iter):\n",
        "        losses = {}\n",
        "        texts, annotations = zip(*TRAIN_DATA)\n",
        "        examples = []\n",
        "        for i in range(len(texts)):\n",
        "            doc = nlp.make_doc(texts[i])\n",
        "            example = Example.from_dict(doc, annotations[i])\n",
        "            examples.append(example)\n",
        "        nlp.update(examples, drop=0.5, losses=losses, sgd=optimizer)\n",
        "        loss_history.append(losses['ner'])\n",
        "\n",
        "\n",
        "# Save the trained model\n",
        "nlp.to_disk(\"custom_ner_model\")\n",
        "\n",
        "# Load the trained model\n",
        "custom_ner = spacy.load(\"custom_ner_model\")"
      ],
      "metadata": {
        "id": "5YGrGKe85nW7"
      },
      "execution_count": 18,
      "outputs": []
    },
    {
      "cell_type": "code",
      "source": [
        "#\n",
        "import matplotlib.pyplot as plt\n",
        "plt.plot(loss_history)"
      ],
      "metadata": {
        "colab": {
          "base_uri": "https://localhost:8080/",
          "height": 448
        },
        "id": "4nMz-Qx9DzRC",
        "outputId": "ddb3ec67-2d4b-4e33-8983-020f827d8ca6"
      },
      "execution_count": 19,
      "outputs": [
        {
          "output_type": "execute_result",
          "data": {
            "text/plain": [
              "[<matplotlib.lines.Line2D at 0x7a973e5cf5e0>]"
            ]
          },
          "metadata": {},
          "execution_count": 19
        },
        {
          "output_type": "display_data",
          "data": {
            "text/plain": [
              "<Figure size 640x480 with 1 Axes>"
            ],
            "image/png": "[encoded data removed]"
          },
          "metadata": {}
        }
      ]
    },
    {
      "cell_type": "code",
      "source": [
        "test=df.iloc[66]['text']\n",
        "print(test)"
      ],
      "metadata": {
        "colab": {
          "base_uri": "https://localhost:8080/"
        },
        "id": "1XaUMi0aFka2",
        "outputId": "375c4ae6-72a0-4b80-9aba-80c350272ea1"
      },
      "execution_count": 20,
      "outputs": [
        {
          "output_type": "stream",
          "name": "stdout",
          "text": [
            "Yesterday Italy released a test-version of a contact tracing App called 'Immuni' in four regions of the country that was hardest hit with COVID-19 before extending it to the whole country. Specifically, the four regions include Liguria , Abruzzo , Marche and Puglia.\n",
            "Reportedly there has been widespread resistance from people concerned about invasion of privacy, though they shouldn't be because the app is is based on software from Apple and Google where privacy is the cornerstone of their software. The Apple|Google announcement specifically has a segment titled \" Privacy-Preserving Contact Tracing .\"\n",
            "The privacy features are so good that it has angered France and other countries and even some U.S. States that want their contact tracing app to have far less privacy.\n",
            "We reported on this back on May 13: While that issue may anger some 'governments ,' Apple and Google purposely designed their standards that way in fear that governments could possibly abuse the collected data for other nefarious reasons far beyond it's original mission of contract tracing the Wuhan Virus within a given population.\n",
            "A poll taken by EMG Acqua on May 26 found that 44% of Italians said they would probably or certainly download Immun i while 24% would definitely not download it.\n",
            "On-the-ground testing of the app, which has been developed by tech start-up Bending Spoons, will start next week on June 8. For more on this read the full Reuters report\n",
            "Engadget added in their report that \"The pandemic has hit Italy harder than most countries, as it has claimed at least 33,500 lives there. The country started easing lockdown restrictions in early May, but there are still fears that the infection rate may soar once more unless people adhere to social distancing guidelines.\" Our report's cover graphic is from that same Engadget report found here .\n"
          ]
        }
      ]
    },
    {
      "cell_type": "code",
      "source": [
        "# create the test article\n",
        "news_article = test\n",
        "# Process the test article text with my custom NER model\n",
        "doc = custom_ner(news_article)\n",
        "\n",
        "# Extract entities in (entity, label) tuple format\n",
        "entities = [(ent.text, ent.label_) for ent in doc.ents]\n"
      ],
      "metadata": {
        "id": "A7ApXCXDFdsC"
      },
      "execution_count": 21,
      "outputs": []
    },
    {
      "cell_type": "code",
      "source": [
        "# Print the entities in (entity, label) format\n",
        "for entity, label in entities:\n",
        "    print(f\"{entity}: {label}\")\n"
      ],
      "metadata": {
        "colab": {
          "base_uri": "https://localhost:8080/"
        },
        "id": "RdtmiWN0FwR5",
        "outputId": "28509f58-f8cf-41f1-ee8a-da534089e5bd"
      },
      "execution_count": 22,
      "outputs": [
        {
          "output_type": "stream",
          "name": "stdout",
          "text": [
            "Yesterday: ORG\n",
            "Liguria: ORG\n",
            "Abruzzo: ORG\n",
            "Apple: ORG\n",
            "Google: ORG\n",
            "Apple|Google: ORG\n",
            "Apple: ORG\n",
            "Google: ORG\n",
            "Wuhan Virus: ORG\n",
            "EMG Acqua on: ORG\n",
            "Bending Spoons: ORG\n"
          ]
        }
      ]
    },
    {
      "cell_type": "code",
      "source": [
        "#visualize named entities\n",
        "displacy.render(doc, style=\"ent\", jupyter=True)"
      ],
      "metadata": {
        "colab": {
          "base_uri": "https://localhost:8080/",
          "height": 402
        },
        "id": "7wfxmsLFGBnn",
        "outputId": "4c0f00f5-b9c7-4aad-b3e0-419cb25730d4"
      },
      "execution_count": 23,
      "outputs": [
        {
          "output_type": "display_data",
          "data": {
            "text/plain": [
              "<IPython.core.display.HTML object>"
            ],
            "text/html": [
              "<span class=\"tex2jax_ignore\"><div class=\"entities\" style=\"line-height: 2.5; direction: ltr\">\n",
              "<mark class=\"entity\" style=\"background: #7aecec; padding: 0.45em 0.6em; margin: 0 0.25em; line-height: 1; border-radius: 0.35em;\">\n",
              "    Yesterday\n",
              "    <span style=\"font-size: 0.8em; font-weight: bold; line-height: 1; border-radius: 0.35em; vertical-align: middle; margin-left: 0.5rem\">ORG</span>\n",
              "</mark>\n",
              " Italy released a test-version of a contact tracing App called 'Immuni' in four regions of the country that was hardest hit with COVID-19 before extending it to the whole country. Specifically, the four regions include \n",
              "<mark class=\"entity\" style=\"background: #7aecec; padding: 0.45em 0.6em; margin: 0 0.25em; line-height: 1; border-radius: 0.35em;\">\n",
              "    Liguria\n",
              "    <span style=\"font-size: 0.8em; font-weight: bold; line-height: 1; border-radius: 0.35em; vertical-align: middle; margin-left: 0.5rem\">ORG</span>\n",
              "</mark>\n",
              " , \n",
              "<mark class=\"entity\" style=\"background: #7aecec; padding: 0.45em 0.6em; margin: 0 0.25em; line-height: 1; border-radius: 0.35em;\">\n",
              "    Abruzzo\n",
              "    <span style=\"font-size: 0.8em; font-weight: bold; line-height: 1; border-radius: 0.35em; vertical-align: middle; margin-left: 0.5rem\">ORG</span>\n",
              "</mark>\n",
              " , Marche and Puglia.<br>Reportedly there has been widespread resistance from people concerned about invasion of privacy, though they shouldn't be because the app is is based on software from \n",
              "<mark class=\"entity\" style=\"background: #7aecec; padding: 0.45em 0.6em; margin: 0 0.25em; line-height: 1; border-radius: 0.35em;\">\n",
              "    Apple\n",
              "    <span style=\"font-size: 0.8em; font-weight: bold; line-height: 1; border-radius: 0.35em; vertical-align: middle; margin-left: 0.5rem\">ORG</span>\n",
              "</mark>\n",
              " and \n",
              "<mark class=\"entity\" style=\"background: #7aecec; padding: 0.45em 0.6em; margin: 0 0.25em; line-height: 1; border-radius: 0.35em;\">\n",
              "    Google\n",
              "    <span style=\"font-size: 0.8em; font-weight: bold; line-height: 1; border-radius: 0.35em; vertical-align: middle; margin-left: 0.5rem\">ORG</span>\n",
              "</mark>\n",
              " where privacy is the cornerstone of their software. The \n",
              "<mark class=\"entity\" style=\"background: #7aecec; padding: 0.45em 0.6em; margin: 0 0.25em; line-height: 1; border-radius: 0.35em;\">\n",
              "    Apple|Google\n",
              "    <span style=\"font-size: 0.8em; font-weight: bold; line-height: 1; border-radius: 0.35em; vertical-align: middle; margin-left: 0.5rem\">ORG</span>\n",
              "</mark>\n",
              " announcement specifically has a segment titled &quot; Privacy-Preserving Contact Tracing .&quot;<br>The privacy features are so good that it has angered France and other countries and even some U.S. States that want their contact tracing app to have far less privacy.<br>We reported on this back on May 13: While that issue may anger some 'governments ,' \n",
              "<mark class=\"entity\" style=\"background: #7aecec; padding: 0.45em 0.6em; margin: 0 0.25em; line-height: 1; border-radius: 0.35em;\">\n",
              "    Apple\n",
              "    <span style=\"font-size: 0.8em; font-weight: bold; line-height: 1; border-radius: 0.35em; vertical-align: middle; margin-left: 0.5rem\">ORG</span>\n",
              "</mark>\n",
              " and \n",
              "<mark class=\"entity\" style=\"background: #7aecec; padding: 0.45em 0.6em; margin: 0 0.25em; line-height: 1; border-radius: 0.35em;\">\n",
              "    Google\n",
              "    <span style=\"font-size: 0.8em; font-weight: bold; line-height: 1; border-radius: 0.35em; vertical-align: middle; margin-left: 0.5rem\">ORG</span>\n",
              "</mark>\n",
              " purposely designed their standards that way in fear that governments could possibly abuse the collected data for other nefarious reasons far beyond it's original mission of contract tracing the \n",
              "<mark class=\"entity\" style=\"background: #7aecec; padding: 0.45em 0.6em; margin: 0 0.25em; line-height: 1; border-radius: 0.35em;\">\n",
              "    Wuhan Virus\n",
              "    <span style=\"font-size: 0.8em; font-weight: bold; line-height: 1; border-radius: 0.35em; vertical-align: middle; margin-left: 0.5rem\">ORG</span>\n",
              "</mark>\n",
              " within a given population.<br>A poll taken by \n",
              "<mark class=\"entity\" style=\"background: #7aecec; padding: 0.45em 0.6em; margin: 0 0.25em; line-height: 1; border-radius: 0.35em;\">\n",
              "    EMG Acqua on\n",
              "    <span style=\"font-size: 0.8em; font-weight: bold; line-height: 1; border-radius: 0.35em; vertical-align: middle; margin-left: 0.5rem\">ORG</span>\n",
              "</mark>\n",
              " May 26 found that 44% of Italians said they would probably or certainly download Immun i while 24% would definitely not download it.<br>On-the-ground testing of the app, which has been developed by tech start-up \n",
              "<mark class=\"entity\" style=\"background: #7aecec; padding: 0.45em 0.6em; margin: 0 0.25em; line-height: 1; border-radius: 0.35em;\">\n",
              "    Bending Spoons\n",
              "    <span style=\"font-size: 0.8em; font-weight: bold; line-height: 1; border-radius: 0.35em; vertical-align: middle; margin-left: 0.5rem\">ORG</span>\n",
              "</mark>\n",
              ", will start next week on June 8. For more on this read the full Reuters report<br>Engadget added in their report that &quot;The pandemic has hit Italy harder than most countries, as it has claimed at least 33,500 lives there. The country started easing lockdown restrictions in early May, but there are still fears that the infection rate may soar once more unless people adhere to social distancing guidelines.&quot; Our report's cover graphic is from that same Engadget report found here .</div></span>"
            ]
          },
          "metadata": {}
        }
      ]
    }
  ]
}